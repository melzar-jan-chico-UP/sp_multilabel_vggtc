{
 "cells": [
  {
   "attachments": {},
   "cell_type": "markdown",
   "metadata": {},
   "source": [
    "# 📌 Data Collection\n",
    "---\n",
    "Testing the IGDB API.\n"
   ]
  },
  {
   "cell_type": "code",
   "execution_count": 7,
   "metadata": {},
   "outputs": [
    {
     "name": "stdout",
     "output_type": "stream",
     "text": [
      "Requirement already satisfied: igdb-api-v4 in c:\\users\\melzarr\\appdata\\local\\programs\\python\\python310\\lib\\site-packages (0.1.0)Note: you may need to restart the kernel to use updated packages.\n",
      "\n",
      "Requirement already satisfied: requests in c:\\users\\melzarr\\appdata\\local\\programs\\python\\python310\\lib\\site-packages (from igdb-api-v4) (2.28.1)\n",
      "Requirement already satisfied: protobuf in c:\\users\\melzarr\\appdata\\local\\programs\\python\\python310\\lib\\site-packages (from igdb-api-v4) (4.21.12)\n",
      "Requirement already satisfied: certifi>=2017.4.17 in c:\\users\\melzarr\\appdata\\local\\programs\\python\\python310\\lib\\site-packages (from requests->igdb-api-v4) (2022.12.7)\n",
      "Requirement already satisfied: urllib3<1.27,>=1.21.1 in c:\\users\\melzarr\\appdata\\local\\programs\\python\\python310\\lib\\site-packages (from requests->igdb-api-v4) (1.26.13)\n",
      "Requirement already satisfied: charset-normalizer<3,>=2 in c:\\users\\melzarr\\appdata\\local\\programs\\python\\python310\\lib\\site-packages (from requests->igdb-api-v4) (2.1.1)\n",
      "Requirement already satisfied: idna<4,>=2.5 in c:\\users\\melzarr\\appdata\\local\\programs\\python\\python310\\lib\\site-packages (from requests->igdb-api-v4) (3.4)\n"
     ]
    }
   ],
   "source": [
    "# install IGDB API wrapper\n",
    "%pip install igdb-api-v4"
   ]
  },
  {
   "cell_type": "code",
   "execution_count": 8,
   "metadata": {},
   "outputs": [],
   "source": [
    "# imports\n",
    "from igdb.wrapper import IGDBWrapper\n",
    "from config import *"
   ]
  },
  {
   "cell_type": "code",
   "execution_count": 9,
   "metadata": {},
   "outputs": [],
   "source": [
    "# initialize wrapper\n",
    "wrapper = IGDBWrapper(CLIENT_ID, ACCESS_TOKEN)"
   ]
  },
  {
   "cell_type": "code",
   "execution_count": 11,
   "metadata": {},
   "outputs": [],
   "source": [
    "# API request using wrapper\n",
    "min_id = 0\n",
    "max_id = 500\n",
    "limit = 500\n",
    "\n",
    "byte_array = wrapper.api_request(\n",
    "    'games',\n",
    "    f'fields name, summary, genres, genres.name; limit {limit}; where id > {min_id} & id <= {max_id}; sort id asc;'\n",
    ")"
   ]
  },
  {
   "cell_type": "code",
   "execution_count": 12,
   "metadata": {},
   "outputs": [
    {
     "name": "stdout",
     "output_type": "stream",
     "text": [
      "497\n"
     ]
    }
   ],
   "source": [
    "import json\n",
    "\n",
    "json_array = json.loads(byte_array)\n",
    "print(len(json_array))"
   ]
  },
  {
   "cell_type": "code",
   "execution_count": 14,
   "metadata": {},
   "outputs": [
    {
     "name": "stdout",
     "output_type": "stream",
     "text": [
      "{'count': 497}\n"
     ]
    }
   ],
   "source": [
    "# confirmation if above number checks out\n",
    "total_games = wrapper.api_request(\n",
    "    'games/count',\n",
    "    f'fields name, summary, genres, genres.name; limit {limit}; where id > {min_id} & id <= {max_id}; sort id asc;'\n",
    ")\n",
    "print(json.loads(total_games))"
   ]
  },
  {
   "cell_type": "code",
   "execution_count": null,
   "metadata": {},
   "outputs": [],
   "source": []
  }
 ],
 "metadata": {
  "kernelspec": {
   "display_name": "Python 3",
   "language": "python",
   "name": "python3"
  },
  "language_info": {
   "codemirror_mode": {
    "name": "ipython",
    "version": 3
   },
   "file_extension": ".py",
   "mimetype": "text/x-python",
   "name": "python",
   "nbconvert_exporter": "python",
   "pygments_lexer": "ipython3",
   "version": "3.10.5"
  },
  "orig_nbformat": 4,
  "vscode": {
   "interpreter": {
    "hash": "591c0779b6128bfc2c376dd674a99fb3f0fc210d9bca6d6f57f1496b6753f9f3"
   }
  }
 },
 "nbformat": 4,
 "nbformat_minor": 2
}

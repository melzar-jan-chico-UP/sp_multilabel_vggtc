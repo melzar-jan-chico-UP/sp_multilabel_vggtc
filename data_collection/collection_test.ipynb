{
 "cells": [
  {
   "attachments": {},
   "cell_type": "markdown",
   "metadata": {},
   "source": [
    "# 📌 Data Collection\n",
    "---\n",
    "Testing the IGDB API.\n"
   ]
  },
  {
   "cell_type": "code",
   "execution_count": 118,
   "metadata": {},
   "outputs": [
    {
     "name": "stdout",
     "output_type": "stream",
     "text": [
      "Requirement already satisfied: igdb-api-v4 in c:\\users\\melzarr\\appdata\\local\\programs\\python\\python310\\lib\\site-packages (0.1.0)\n",
      "Requirement already satisfied: requests in c:\\users\\melzarr\\appdata\\local\\programs\\python\\python310\\lib\\site-packages (from igdb-api-v4) (2.28.1)\n",
      "Requirement already satisfied: protobuf in c:\\users\\melzarr\\appdata\\local\\programs\\python\\python310\\lib\\site-packages (from igdb-api-v4) (4.21.12)\n",
      "Requirement already satisfied: idna<4,>=2.5 in c:\\users\\melzarr\\appdata\\local\\programs\\python\\python310\\lib\\site-packages (from requests->igdb-api-v4) (3.4)\n",
      "Requirement already satisfied: certifi>=2017.4.17 in c:\\users\\melzarr\\appdata\\local\\programs\\python\\python310\\lib\\site-packages (from requests->igdb-api-v4) (2022.12.7)\n",
      "Requirement already satisfied: urllib3<1.27,>=1.21.1 in c:\\users\\melzarr\\appdata\\local\\programs\\python\\python310\\lib\\site-packages (from requests->igdb-api-v4) (1.26.13)\n",
      "Requirement already satisfied: charset-normalizer<3,>=2 in c:\\users\\melzarr\\appdata\\local\\programs\\python\\python310\\lib\\site-packages (from requests->igdb-api-v4) (2.1.1)\n",
      "Note: you may need to restart the kernel to use updated packages.\n"
     ]
    }
   ],
   "source": [
    "# install IGDB API wrapper\n",
    "%pip install igdb-api-v4"
   ]
  },
  {
   "cell_type": "code",
   "execution_count": 119,
   "metadata": {},
   "outputs": [],
   "source": [
    "# imports\n",
    "from igdb.wrapper import IGDBWrapper\n",
    "from config import *"
   ]
  },
  {
   "cell_type": "code",
   "execution_count": 120,
   "metadata": {},
   "outputs": [],
   "source": [
    "# initialize wrapper\n",
    "wrapper = IGDBWrapper(CLIENT_ID, ACCESS_TOKEN)"
   ]
  },
  {
   "cell_type": "code",
   "execution_count": 121,
   "metadata": {},
   "outputs": [],
   "source": [
    "# API request using wrapper\n",
    "min_id = 0\n",
    "max_id = 500\n",
    "limit = 500\n",
    "\n",
    "byte_array = wrapper.api_request(\n",
    "    'games',\n",
    "    f'fields name, summary, genres, genres.name; limit {limit}; where id > {min_id} & id <= {max_id}; sort id asc;'\n",
    ")"
   ]
  },
  {
   "cell_type": "code",
   "execution_count": 122,
   "metadata": {},
   "outputs": [
    {
     "name": "stdout",
     "output_type": "stream",
     "text": [
      "497\n"
     ]
    }
   ],
   "source": [
    "import json\n",
    "\n",
    "json_array = json.loads(byte_array)\n",
    "print(len(json_array))"
   ]
  },
  {
   "cell_type": "code",
   "execution_count": 123,
   "metadata": {},
   "outputs": [
    {
     "name": "stdout",
     "output_type": "stream",
     "text": [
      "{'count': 497}\n"
     ]
    }
   ],
   "source": [
    "# confirmation if above number checks out\n",
    "total_games = wrapper.api_request(\n",
    "    'games/count',\n",
    "    f'fields name, summary, genres, genres.name; limit {limit}; where id > {min_id} & id <= {max_id}; sort id asc;'\n",
    ")\n",
    "print(json.loads(total_games))"
   ]
  },
  {
   "cell_type": "code",
   "execution_count": 124,
   "metadata": {},
   "outputs": [
    {
     "data": {
      "text/html": [
       "<div>\n",
       "<style scoped>\n",
       "    .dataframe tbody tr th:only-of-type {\n",
       "        vertical-align: middle;\n",
       "    }\n",
       "\n",
       "    .dataframe tbody tr th {\n",
       "        vertical-align: top;\n",
       "    }\n",
       "\n",
       "    .dataframe thead th {\n",
       "        text-align: right;\n",
       "    }\n",
       "</style>\n",
       "<table border=\"1\" class=\"dataframe\">\n",
       "  <thead>\n",
       "    <tr style=\"text-align: right;\">\n",
       "      <th></th>\n",
       "      <th>id</th>\n",
       "      <th>genres</th>\n",
       "      <th>name</th>\n",
       "      <th>summary</th>\n",
       "    </tr>\n",
       "  </thead>\n",
       "  <tbody>\n",
       "    <tr>\n",
       "      <th>0</th>\n",
       "      <td>1</td>\n",
       "      <td>[{'id': 5, 'name': 'Shooter'}, {'id': 13, 'nam...</td>\n",
       "      <td>Thief II: The Metal Age</td>\n",
       "      <td>The ultimate thief is back! Tread softly as yo...</td>\n",
       "    </tr>\n",
       "    <tr>\n",
       "      <th>1</th>\n",
       "      <td>2</td>\n",
       "      <td>[{'id': 13, 'name': 'Simulator'}, {'id': 31, '...</td>\n",
       "      <td>Thief: The Dark Project</td>\n",
       "      <td>Thief is a first-person stealth game that like...</td>\n",
       "    </tr>\n",
       "    <tr>\n",
       "      <th>2</th>\n",
       "      <td>3</td>\n",
       "      <td>[{'id': 5, 'name': 'Shooter'}, {'id': 13, 'nam...</td>\n",
       "      <td>Thief: Deadly Shadows</td>\n",
       "      <td>In the third instalment of the Thief series, m...</td>\n",
       "    </tr>\n",
       "    <tr>\n",
       "      <th>3</th>\n",
       "      <td>4</td>\n",
       "      <td>[{'id': 5, 'name': 'Shooter'}, {'id': 31, 'nam...</td>\n",
       "      <td>Thief</td>\n",
       "      <td>There is a rising tide of fear in The City. Ha...</td>\n",
       "    </tr>\n",
       "    <tr>\n",
       "      <th>4</th>\n",
       "      <td>5</td>\n",
       "      <td>[{'id': 12, 'name': 'Role-playing (RPG)'}]</td>\n",
       "      <td>Baldur's Gate</td>\n",
       "      <td>Baldur's Gate is a fantasy role-playing video ...</td>\n",
       "    </tr>\n",
       "    <tr>\n",
       "      <th>5</th>\n",
       "      <td>6</td>\n",
       "      <td>[{'id': 12, 'name': 'Role-playing (RPG)'}]</td>\n",
       "      <td>Baldur's Gate II: Shadows of Amn</td>\n",
       "      <td>Every World has conflict. Good and evil. Frien...</td>\n",
       "    </tr>\n",
       "    <tr>\n",
       "      <th>6</th>\n",
       "      <td>7</td>\n",
       "      <td>[{'id': 12, 'name': 'Role-playing (RPG)'}, {'i...</td>\n",
       "      <td>Jagged Alliance</td>\n",
       "      <td>Desperately you are called to the island of Me...</td>\n",
       "    </tr>\n",
       "    <tr>\n",
       "      <th>7</th>\n",
       "      <td>8</td>\n",
       "      <td>[{'id': 12, 'name': 'Role-playing (RPG)'}, {'i...</td>\n",
       "      <td>Jagged Alliance: Deadly Games</td>\n",
       "      <td>The enemy is on the run. One more mortar shell...</td>\n",
       "    </tr>\n",
       "    <tr>\n",
       "      <th>8</th>\n",
       "      <td>9</td>\n",
       "      <td>[{'id': 12, 'name': 'Role-playing (RPG)'}, {'i...</td>\n",
       "      <td>Jagged Alliance 2</td>\n",
       "      <td>Jagged Alliance 2 is a perfect blend of strate...</td>\n",
       "    </tr>\n",
       "    <tr>\n",
       "      <th>9</th>\n",
       "      <td>10</td>\n",
       "      <td>[{'id': 12, 'name': 'Role-playing (RPG)'}, {'i...</td>\n",
       "      <td>Jade Empire: Special Edition</td>\n",
       "      <td>Step into the role of an aspiring martial-arts...</td>\n",
       "    </tr>\n",
       "  </tbody>\n",
       "</table>\n",
       "</div>"
      ],
      "text/plain": [
       "   id                                             genres  \\\n",
       "0   1  [{'id': 5, 'name': 'Shooter'}, {'id': 13, 'nam...   \n",
       "1   2  [{'id': 13, 'name': 'Simulator'}, {'id': 31, '...   \n",
       "2   3  [{'id': 5, 'name': 'Shooter'}, {'id': 13, 'nam...   \n",
       "3   4  [{'id': 5, 'name': 'Shooter'}, {'id': 31, 'nam...   \n",
       "4   5         [{'id': 12, 'name': 'Role-playing (RPG)'}]   \n",
       "5   6         [{'id': 12, 'name': 'Role-playing (RPG)'}]   \n",
       "6   7  [{'id': 12, 'name': 'Role-playing (RPG)'}, {'i...   \n",
       "7   8  [{'id': 12, 'name': 'Role-playing (RPG)'}, {'i...   \n",
       "8   9  [{'id': 12, 'name': 'Role-playing (RPG)'}, {'i...   \n",
       "9  10  [{'id': 12, 'name': 'Role-playing (RPG)'}, {'i...   \n",
       "\n",
       "                               name  \\\n",
       "0           Thief II: The Metal Age   \n",
       "1           Thief: The Dark Project   \n",
       "2             Thief: Deadly Shadows   \n",
       "3                             Thief   \n",
       "4                     Baldur's Gate   \n",
       "5  Baldur's Gate II: Shadows of Amn   \n",
       "6                   Jagged Alliance   \n",
       "7     Jagged Alliance: Deadly Games   \n",
       "8                 Jagged Alliance 2   \n",
       "9      Jade Empire: Special Edition   \n",
       "\n",
       "                                             summary  \n",
       "0  The ultimate thief is back! Tread softly as yo...  \n",
       "1  Thief is a first-person stealth game that like...  \n",
       "2  In the third instalment of the Thief series, m...  \n",
       "3  There is a rising tide of fear in The City. Ha...  \n",
       "4  Baldur's Gate is a fantasy role-playing video ...  \n",
       "5  Every World has conflict. Good and evil. Frien...  \n",
       "6  Desperately you are called to the island of Me...  \n",
       "7  The enemy is on the run. One more mortar shell...  \n",
       "8  Jagged Alliance 2 is a perfect blend of strate...  \n",
       "9  Step into the role of an aspiring martial-arts...  "
      ]
     },
     "execution_count": 124,
     "metadata": {},
     "output_type": "execute_result"
    }
   ],
   "source": [
    "import pandas as pd\n",
    "\n",
    "videogame_df = pd.DataFrame(json_array)\n",
    "videogame_df.head(10)"
   ]
  },
  {
   "cell_type": "code",
   "execution_count": 125,
   "metadata": {},
   "outputs": [
    {
     "name": "stdout",
     "output_type": "stream",
     "text": [
      "<class 'pandas.core.frame.DataFrame'>\n",
      "RangeIndex: 497 entries, 0 to 496\n",
      "Data columns (total 4 columns):\n",
      " #   Column   Non-Null Count  Dtype \n",
      "---  ------   --------------  ----- \n",
      " 0   id       497 non-null    int64 \n",
      " 1   genres   497 non-null    object\n",
      " 2   name     497 non-null    object\n",
      " 3   summary  488 non-null    object\n",
      "dtypes: int64(1), object(3)\n",
      "memory usage: 15.7+ KB\n"
     ]
    }
   ],
   "source": [
    "# check for missing values\n",
    "videogame_df.info(verbose=True)"
   ]
  },
  {
   "attachments": {},
   "cell_type": "markdown",
   "metadata": {},
   "source": [
    "> *mental note*: `summary` can have null values."
   ]
  },
  {
   "cell_type": "code",
   "execution_count": 126,
   "metadata": {},
   "outputs": [
    {
     "name": "stdout",
     "output_type": "stream",
     "text": [
      "['Shooter', 'Simulator', 'Adventure']\n",
      "[5, 13, 31]\n"
     ]
    }
   ],
   "source": [
    "hello = videogame_df['genres']\n",
    "\n",
    "hello_str = hello[0]\n",
    "genre_list = [x['name'] for x in hello_str]\n",
    "genre_ids = [x['id'] for x in hello_str]\n",
    "\n",
    "print(genre_list)\n",
    "print(genre_ids)"
   ]
  },
  {
   "cell_type": "code",
   "execution_count": 127,
   "metadata": {},
   "outputs": [
    {
     "data": {
      "text/html": [
       "<div>\n",
       "<style scoped>\n",
       "    .dataframe tbody tr th:only-of-type {\n",
       "        vertical-align: middle;\n",
       "    }\n",
       "\n",
       "    .dataframe tbody tr th {\n",
       "        vertical-align: top;\n",
       "    }\n",
       "\n",
       "    .dataframe thead th {\n",
       "        text-align: right;\n",
       "    }\n",
       "</style>\n",
       "<table border=\"1\" class=\"dataframe\">\n",
       "  <thead>\n",
       "    <tr style=\"text-align: right;\">\n",
       "      <th></th>\n",
       "      <th>genres</th>\n",
       "    </tr>\n",
       "  </thead>\n",
       "  <tbody>\n",
       "    <tr>\n",
       "      <th>0</th>\n",
       "      <td>[{'id': 5, 'name': 'Shooter'}, {'id': 13, 'nam...</td>\n",
       "    </tr>\n",
       "    <tr>\n",
       "      <th>1</th>\n",
       "      <td>[{'id': 13, 'name': 'Simulator'}, {'id': 31, '...</td>\n",
       "    </tr>\n",
       "    <tr>\n",
       "      <th>2</th>\n",
       "      <td>[{'id': 5, 'name': 'Shooter'}, {'id': 13, 'nam...</td>\n",
       "    </tr>\n",
       "    <tr>\n",
       "      <th>3</th>\n",
       "      <td>[{'id': 5, 'name': 'Shooter'}, {'id': 31, 'nam...</td>\n",
       "    </tr>\n",
       "    <tr>\n",
       "      <th>4</th>\n",
       "      <td>[{'id': 12, 'name': 'Role-playing (RPG)'}]</td>\n",
       "    </tr>\n",
       "  </tbody>\n",
       "</table>\n",
       "</div>"
      ],
      "text/plain": [
       "                                              genres\n",
       "0  [{'id': 5, 'name': 'Shooter'}, {'id': 13, 'nam...\n",
       "1  [{'id': 13, 'name': 'Simulator'}, {'id': 31, '...\n",
       "2  [{'id': 5, 'name': 'Shooter'}, {'id': 13, 'nam...\n",
       "3  [{'id': 5, 'name': 'Shooter'}, {'id': 31, 'nam...\n",
       "4         [{'id': 12, 'name': 'Role-playing (RPG)'}]"
      ]
     },
     "execution_count": 127,
     "metadata": {},
     "output_type": "execute_result"
    }
   ],
   "source": [
    "test_df = videogame_df['genres'].to_frame()\n",
    "test_df.head()"
   ]
  },
  {
   "cell_type": "code",
   "execution_count": 134,
   "metadata": {},
   "outputs": [],
   "source": [
    "test_df['genre_count'] = [len(x) for x in test_df['genres']]\n",
    "test_df['genre_list'] = [[y['name'] for y in x] for x in test_df['genres']]\n",
    "test_df['genre_ids'] = [[y['id'] for y in x] for x in test_df['genres']]"
   ]
  },
  {
   "cell_type": "code",
   "execution_count": 135,
   "metadata": {},
   "outputs": [
    {
     "data": {
      "text/html": [
       "<div>\n",
       "<style scoped>\n",
       "    .dataframe tbody tr th:only-of-type {\n",
       "        vertical-align: middle;\n",
       "    }\n",
       "\n",
       "    .dataframe tbody tr th {\n",
       "        vertical-align: top;\n",
       "    }\n",
       "\n",
       "    .dataframe thead th {\n",
       "        text-align: right;\n",
       "    }\n",
       "</style>\n",
       "<table border=\"1\" class=\"dataframe\">\n",
       "  <thead>\n",
       "    <tr style=\"text-align: right;\">\n",
       "      <th></th>\n",
       "      <th>genres</th>\n",
       "      <th>genre_count</th>\n",
       "      <th>genre_list</th>\n",
       "      <th>genre_ids</th>\n",
       "    </tr>\n",
       "  </thead>\n",
       "  <tbody>\n",
       "    <tr>\n",
       "      <th>0</th>\n",
       "      <td>[{'id': 5, 'name': 'Shooter'}, {'id': 13, 'nam...</td>\n",
       "      <td>3</td>\n",
       "      <td>[Shooter, Simulator, Adventure]</td>\n",
       "      <td>[5, 13, 31]</td>\n",
       "    </tr>\n",
       "    <tr>\n",
       "      <th>1</th>\n",
       "      <td>[{'id': 13, 'name': 'Simulator'}, {'id': 31, '...</td>\n",
       "      <td>2</td>\n",
       "      <td>[Simulator, Adventure]</td>\n",
       "      <td>[13, 31]</td>\n",
       "    </tr>\n",
       "    <tr>\n",
       "      <th>2</th>\n",
       "      <td>[{'id': 5, 'name': 'Shooter'}, {'id': 13, 'nam...</td>\n",
       "      <td>3</td>\n",
       "      <td>[Shooter, Simulator, Adventure]</td>\n",
       "      <td>[5, 13, 31]</td>\n",
       "    </tr>\n",
       "    <tr>\n",
       "      <th>3</th>\n",
       "      <td>[{'id': 5, 'name': 'Shooter'}, {'id': 31, 'nam...</td>\n",
       "      <td>2</td>\n",
       "      <td>[Shooter, Adventure]</td>\n",
       "      <td>[5, 31]</td>\n",
       "    </tr>\n",
       "    <tr>\n",
       "      <th>4</th>\n",
       "      <td>[{'id': 12, 'name': 'Role-playing (RPG)'}]</td>\n",
       "      <td>1</td>\n",
       "      <td>[Role-playing (RPG)]</td>\n",
       "      <td>[12]</td>\n",
       "    </tr>\n",
       "    <tr>\n",
       "      <th>5</th>\n",
       "      <td>[{'id': 12, 'name': 'Role-playing (RPG)'}]</td>\n",
       "      <td>1</td>\n",
       "      <td>[Role-playing (RPG)]</td>\n",
       "      <td>[12]</td>\n",
       "    </tr>\n",
       "    <tr>\n",
       "      <th>6</th>\n",
       "      <td>[{'id': 12, 'name': 'Role-playing (RPG)'}, {'i...</td>\n",
       "      <td>4</td>\n",
       "      <td>[Role-playing (RPG), Strategy, Turn-based stra...</td>\n",
       "      <td>[12, 15, 16, 24]</td>\n",
       "    </tr>\n",
       "    <tr>\n",
       "      <th>7</th>\n",
       "      <td>[{'id': 12, 'name': 'Role-playing (RPG)'}, {'i...</td>\n",
       "      <td>4</td>\n",
       "      <td>[Role-playing (RPG), Strategy, Turn-based stra...</td>\n",
       "      <td>[12, 15, 16, 24]</td>\n",
       "    </tr>\n",
       "    <tr>\n",
       "      <th>8</th>\n",
       "      <td>[{'id': 12, 'name': 'Role-playing (RPG)'}, {'i...</td>\n",
       "      <td>5</td>\n",
       "      <td>[Role-playing (RPG), Strategy, Turn-based stra...</td>\n",
       "      <td>[12, 15, 16, 24, 31]</td>\n",
       "    </tr>\n",
       "    <tr>\n",
       "      <th>9</th>\n",
       "      <td>[{'id': 12, 'name': 'Role-playing (RPG)'}, {'i...</td>\n",
       "      <td>2</td>\n",
       "      <td>[Role-playing (RPG), Adventure]</td>\n",
       "      <td>[12, 31]</td>\n",
       "    </tr>\n",
       "  </tbody>\n",
       "</table>\n",
       "</div>"
      ],
      "text/plain": [
       "                                              genres  genre_count  \\\n",
       "0  [{'id': 5, 'name': 'Shooter'}, {'id': 13, 'nam...            3   \n",
       "1  [{'id': 13, 'name': 'Simulator'}, {'id': 31, '...            2   \n",
       "2  [{'id': 5, 'name': 'Shooter'}, {'id': 13, 'nam...            3   \n",
       "3  [{'id': 5, 'name': 'Shooter'}, {'id': 31, 'nam...            2   \n",
       "4         [{'id': 12, 'name': 'Role-playing (RPG)'}]            1   \n",
       "5         [{'id': 12, 'name': 'Role-playing (RPG)'}]            1   \n",
       "6  [{'id': 12, 'name': 'Role-playing (RPG)'}, {'i...            4   \n",
       "7  [{'id': 12, 'name': 'Role-playing (RPG)'}, {'i...            4   \n",
       "8  [{'id': 12, 'name': 'Role-playing (RPG)'}, {'i...            5   \n",
       "9  [{'id': 12, 'name': 'Role-playing (RPG)'}, {'i...            2   \n",
       "\n",
       "                                          genre_list             genre_ids  \n",
       "0                    [Shooter, Simulator, Adventure]           [5, 13, 31]  \n",
       "1                             [Simulator, Adventure]              [13, 31]  \n",
       "2                    [Shooter, Simulator, Adventure]           [5, 13, 31]  \n",
       "3                               [Shooter, Adventure]               [5, 31]  \n",
       "4                               [Role-playing (RPG)]                  [12]  \n",
       "5                               [Role-playing (RPG)]                  [12]  \n",
       "6  [Role-playing (RPG), Strategy, Turn-based stra...      [12, 15, 16, 24]  \n",
       "7  [Role-playing (RPG), Strategy, Turn-based stra...      [12, 15, 16, 24]  \n",
       "8  [Role-playing (RPG), Strategy, Turn-based stra...  [12, 15, 16, 24, 31]  \n",
       "9                    [Role-playing (RPG), Adventure]              [12, 31]  "
      ]
     },
     "execution_count": 135,
     "metadata": {},
     "output_type": "execute_result"
    }
   ],
   "source": [
    "test_df.head(10)"
   ]
  },
  {
   "attachments": {},
   "cell_type": "markdown",
   "metadata": {},
   "source": [
    "Finally, apply the things we did on test_df to the videogame_df"
   ]
  },
  {
   "cell_type": "code",
   "execution_count": 136,
   "metadata": {},
   "outputs": [
    {
     "data": {
      "text/html": [
       "<div>\n",
       "<style scoped>\n",
       "    .dataframe tbody tr th:only-of-type {\n",
       "        vertical-align: middle;\n",
       "    }\n",
       "\n",
       "    .dataframe tbody tr th {\n",
       "        vertical-align: top;\n",
       "    }\n",
       "\n",
       "    .dataframe thead th {\n",
       "        text-align: right;\n",
       "    }\n",
       "</style>\n",
       "<table border=\"1\" class=\"dataframe\">\n",
       "  <thead>\n",
       "    <tr style=\"text-align: right;\">\n",
       "      <th></th>\n",
       "      <th>id</th>\n",
       "      <th>name</th>\n",
       "      <th>summary</th>\n",
       "      <th>genre_count</th>\n",
       "      <th>genre_list</th>\n",
       "      <th>genre_ids</th>\n",
       "    </tr>\n",
       "  </thead>\n",
       "  <tbody>\n",
       "    <tr>\n",
       "      <th>0</th>\n",
       "      <td>1</td>\n",
       "      <td>Thief II: The Metal Age</td>\n",
       "      <td>The ultimate thief is back! Tread softly as yo...</td>\n",
       "      <td>3</td>\n",
       "      <td>[Shooter, Simulator, Adventure]</td>\n",
       "      <td>[5, 13, 31]</td>\n",
       "    </tr>\n",
       "    <tr>\n",
       "      <th>1</th>\n",
       "      <td>2</td>\n",
       "      <td>Thief: The Dark Project</td>\n",
       "      <td>Thief is a first-person stealth game that like...</td>\n",
       "      <td>2</td>\n",
       "      <td>[Simulator, Adventure]</td>\n",
       "      <td>[13, 31]</td>\n",
       "    </tr>\n",
       "    <tr>\n",
       "      <th>2</th>\n",
       "      <td>3</td>\n",
       "      <td>Thief: Deadly Shadows</td>\n",
       "      <td>In the third instalment of the Thief series, m...</td>\n",
       "      <td>3</td>\n",
       "      <td>[Shooter, Simulator, Adventure]</td>\n",
       "      <td>[5, 13, 31]</td>\n",
       "    </tr>\n",
       "    <tr>\n",
       "      <th>3</th>\n",
       "      <td>4</td>\n",
       "      <td>Thief</td>\n",
       "      <td>There is a rising tide of fear in The City. Ha...</td>\n",
       "      <td>2</td>\n",
       "      <td>[Shooter, Adventure]</td>\n",
       "      <td>[5, 31]</td>\n",
       "    </tr>\n",
       "    <tr>\n",
       "      <th>4</th>\n",
       "      <td>5</td>\n",
       "      <td>Baldur's Gate</td>\n",
       "      <td>Baldur's Gate is a fantasy role-playing video ...</td>\n",
       "      <td>1</td>\n",
       "      <td>[Role-playing (RPG)]</td>\n",
       "      <td>[12]</td>\n",
       "    </tr>\n",
       "  </tbody>\n",
       "</table>\n",
       "</div>"
      ],
      "text/plain": [
       "   id                     name  \\\n",
       "0   1  Thief II: The Metal Age   \n",
       "1   2  Thief: The Dark Project   \n",
       "2   3    Thief: Deadly Shadows   \n",
       "3   4                    Thief   \n",
       "4   5            Baldur's Gate   \n",
       "\n",
       "                                             summary  genre_count  \\\n",
       "0  The ultimate thief is back! Tread softly as yo...            3   \n",
       "1  Thief is a first-person stealth game that like...            2   \n",
       "2  In the third instalment of the Thief series, m...            3   \n",
       "3  There is a rising tide of fear in The City. Ha...            2   \n",
       "4  Baldur's Gate is a fantasy role-playing video ...            1   \n",
       "\n",
       "                        genre_list    genre_ids  \n",
       "0  [Shooter, Simulator, Adventure]  [5, 13, 31]  \n",
       "1           [Simulator, Adventure]     [13, 31]  \n",
       "2  [Shooter, Simulator, Adventure]  [5, 13, 31]  \n",
       "3             [Shooter, Adventure]      [5, 31]  \n",
       "4             [Role-playing (RPG)]         [12]  "
      ]
     },
     "execution_count": 136,
     "metadata": {},
     "output_type": "execute_result"
    }
   ],
   "source": [
    "videogame_df['genre_count'] = [len(x) for x in videogame_df['genres']]\n",
    "videogame_df['genre_list'] = [[y['name'] for y in x] for x in videogame_df['genres']]\n",
    "videogame_df['genre_ids'] = [[y['id'] for y in x] for x in videogame_df['genres']]\n",
    "\n",
    "videogame_df = videogame_df.drop(\"genres\", axis='columns')\n",
    "videogame_df.head()"
   ]
  },
  {
   "cell_type": "code",
   "execution_count": 137,
   "metadata": {},
   "outputs": [],
   "source": [
    "# save as csv\n",
    "videogame_df.to_csv('./sample_data.csv')"
   ]
  }
 ],
 "metadata": {
  "kernelspec": {
   "display_name": "Python 3",
   "language": "python",
   "name": "python3"
  },
  "language_info": {
   "codemirror_mode": {
    "name": "ipython",
    "version": 3
   },
   "file_extension": ".py",
   "mimetype": "text/x-python",
   "name": "python",
   "nbconvert_exporter": "python",
   "pygments_lexer": "ipython3",
   "version": "3.10.5"
  },
  "orig_nbformat": 4,
  "vscode": {
   "interpreter": {
    "hash": "591c0779b6128bfc2c376dd674a99fb3f0fc210d9bca6d6f57f1496b6753f9f3"
   }
  }
 },
 "nbformat": 4,
 "nbformat_minor": 2
}

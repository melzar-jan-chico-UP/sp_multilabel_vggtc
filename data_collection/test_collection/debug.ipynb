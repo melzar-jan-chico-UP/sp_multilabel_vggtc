{
 "cells": [
  {
   "cell_type": "code",
   "execution_count": 18,
   "metadata": {},
   "outputs": [],
   "source": [
    "import pandas as pd"
   ]
  },
  {
   "cell_type": "code",
   "execution_count": 19,
   "metadata": {},
   "outputs": [],
   "source": [
    "debug_df = pd.read_csv('./debug.csv')"
   ]
  },
  {
   "cell_type": "code",
   "execution_count": 20,
   "metadata": {},
   "outputs": [],
   "source": [
    "# error\n",
    "debug_df['genre_count_type'] = [type(x) for x in debug_df['genres']]"
   ]
  },
  {
   "cell_type": "code",
   "execution_count": 21,
   "metadata": {},
   "outputs": [],
   "source": [
    "debug_df.head()\n",
    "debug_df.to_csv('./debug.csv')"
   ]
  },
  {
   "attachments": {},
   "cell_type": "markdown",
   "metadata": {},
   "source": [
    "> 📅 **1/20/2023**  \n",
    "> diagnosis: genres can be empty as well. ew"
   ]
  },
  {
   "cell_type": "code",
   "execution_count": 3,
   "metadata": {},
   "outputs": [
    {
     "name": "stdout",
     "output_type": "stream",
     "text": [
      "50000 50500\n",
      "50500 51000\n",
      "51000 51500\n",
      "51500 52000\n",
      "52000 52500\n",
      "52500 53000\n",
      "53000 53500\n",
      "53500 54000\n",
      "54000 54500\n",
      "54500 55000\n",
      "55000 55500\n",
      "55500 56000\n",
      "56000 56500\n",
      "56500 57000\n",
      "57000 57500\n",
      "57500 58000\n",
      "58000 58500\n",
      "58500 59000\n",
      "59000 59500\n",
      "59500 60000\n",
      "60000 60500\n",
      "60500 61000\n",
      "61000 61500\n",
      "61500 62000\n",
      "62000 62500\n",
      "62500 63000\n",
      "63000 63500\n",
      "63500 64000\n",
      "64000 64500\n",
      "64500 65000\n",
      "65000 65500\n",
      "65500 66000\n",
      "66000 66500\n",
      "66500 67000\n",
      "67000 67500\n",
      "67500 68000\n",
      "68000 68500\n",
      "68500 69000\n",
      "69000 69500\n",
      "69500 70000\n",
      "70000 70500\n",
      "70500 71000\n",
      "71000 71500\n",
      "71500 72000\n",
      "72000 72500\n",
      "72500 73000\n",
      "73000 73500\n",
      "73500 74000\n",
      "74000 74500\n",
      "74500 75000\n",
      "75000 75500\n",
      "75500 76000\n",
      "76000 76500\n",
      "76500 77000\n",
      "77000 77500\n",
      "77500 78000\n",
      "78000 78500\n",
      "78500 79000\n",
      "79000 79500\n",
      "79500 80000\n",
      "80000 80500\n",
      "80500 81000\n",
      "81000 81500\n",
      "81500 82000\n",
      "82000 82500\n",
      "82500 83000\n",
      "83000 83500\n",
      "83500 84000\n",
      "84000 84500\n",
      "84500 85000\n",
      "85000 85500\n",
      "85500 86000\n",
      "86000 86500\n",
      "86500 87000\n",
      "87000 87500\n",
      "87500 88000\n",
      "88000 88500\n",
      "88500 89000\n",
      "89000 89500\n",
      "89500 90000\n",
      "90000 90500\n",
      "90500 91000\n",
      "91000 91500\n",
      "91500 92000\n",
      "92000 92500\n",
      "92500 93000\n",
      "93000 93500\n",
      "93500 94000\n",
      "94000 94500\n",
      "94500 95000\n",
      "95000 95500\n",
      "95500 96000\n",
      "96000 96500\n",
      "96500 97000\n",
      "97000 97500\n",
      "97500 98000\n",
      "98000 98500\n",
      "98500 99000\n",
      "99000 99500\n",
      "99500 100000\n"
     ]
    }
   ],
   "source": [
    "# iterative API request using wrapper\n",
    "min_id = 0\n",
    "max_id = 500\n",
    "limit = 500\n",
    "start = 50000\n",
    "\n",
    "for i in range(start, start+50000, limit):\n",
    "    print(min_id+i, max_id+i)"
   ]
  },
  {
   "cell_type": "code",
   "execution_count": null,
   "metadata": {},
   "outputs": [],
   "source": []
  }
 ],
 "metadata": {
  "kernelspec": {
   "display_name": "Python 3",
   "language": "python",
   "name": "python3"
  },
  "language_info": {
   "codemirror_mode": {
    "name": "ipython",
    "version": 3
   },
   "file_extension": ".py",
   "mimetype": "text/x-python",
   "name": "python",
   "nbconvert_exporter": "python",
   "pygments_lexer": "ipython3",
   "version": "3.10.5"
  },
  "orig_nbformat": 4,
  "vscode": {
   "interpreter": {
    "hash": "591c0779b6128bfc2c376dd674a99fb3f0fc210d9bca6d6f57f1496b6753f9f3"
   }
  }
 },
 "nbformat": 4,
 "nbformat_minor": 2
}

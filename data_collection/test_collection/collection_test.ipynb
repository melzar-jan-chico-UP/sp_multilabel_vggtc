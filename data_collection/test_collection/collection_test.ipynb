{
 "cells": [
  {
   "attachments": {},
   "cell_type": "markdown",
   "metadata": {},
   "source": [
    "# 📌 Data Collection\n",
    "---\n",
    "Testing the IGDB API.\n"
   ]
  },
  {
   "cell_type": "code",
   "execution_count": 1,
   "metadata": {},
   "outputs": [
    {
     "name": "stdout",
     "output_type": "stream",
     "text": [
      "Requirement already satisfied: igdb-api-v4 in c:\\users\\melzarr\\appdata\\local\\programs\\python\\python310\\lib\\site-packages (0.1.0)\n",
      "Requirement already satisfied: protobuf in c:\\users\\melzarr\\appdata\\local\\programs\\python\\python310\\lib\\site-packages (from igdb-api-v4) (4.21.12)\n",
      "Requirement already satisfied: requests in c:\\users\\melzarr\\appdata\\local\\programs\\python\\python310\\lib\\site-packages (from igdb-api-v4) (2.28.1)\n",
      "Requirement already satisfied: idna<4,>=2.5 in c:\\users\\melzarr\\appdata\\local\\programs\\python\\python310\\lib\\site-packages (from requests->igdb-api-v4) (3.4)\n",
      "Requirement already satisfied: certifi>=2017.4.17 in c:\\users\\melzarr\\appdata\\local\\programs\\python\\python310\\lib\\site-packages (from requests->igdb-api-v4) (2022.12.7)\n",
      "Requirement already satisfied: urllib3<1.27,>=1.21.1 in c:\\users\\melzarr\\appdata\\local\\programs\\python\\python310\\lib\\site-packages (from requests->igdb-api-v4) (1.26.13)\n",
      "Requirement already satisfied: charset-normalizer<3,>=2 in c:\\users\\melzarr\\appdata\\local\\programs\\python\\python310\\lib\\site-packages (from requests->igdb-api-v4) (2.1.1)\n",
      "Note: you may need to restart the kernel to use updated packages.\n"
     ]
    }
   ],
   "source": [
    "# install IGDB API wrapper\n",
    "%pip install igdb-api-v4"
   ]
  },
  {
   "cell_type": "code",
   "execution_count": 2,
   "metadata": {},
   "outputs": [],
   "source": [
    "# imports\n",
    "from igdb.wrapper import IGDBWrapper\n",
    "from config import *"
   ]
  },
  {
   "cell_type": "code",
   "execution_count": 3,
   "metadata": {},
   "outputs": [],
   "source": [
    "# initialize wrapper\n",
    "wrapper = IGDBWrapper(CLIENT_ID, ACCESS_TOKEN)"
   ]
  },
  {
   "attachments": {},
   "cell_type": "markdown",
   "metadata": {},
   "source": [
    "> 📅 **1/21/2023**  \n",
    "> From the new updates: Instead of removing null values (for `summary` and `genres`) in the data after requesting them. Just filter them out before requesting.  \n",
    "> This is shown below!"
   ]
  },
  {
   "cell_type": "code",
   "execution_count": 4,
   "metadata": {},
   "outputs": [],
   "source": [
    "# API request using wrapper\n",
    "min_id = 500\n",
    "max_id = 1000\n",
    "limit = 500\n",
    "\n",
    "byte_array = wrapper.api_request(\n",
    "    'games',\n",
    "    f'fields name, summary, genres, genres.name; limit {limit}; where id > {min_id} & id <= {max_id} & summary != null & genres != null; sort id asc;'\n",
    ")"
   ]
  },
  {
   "cell_type": "code",
   "execution_count": 5,
   "metadata": {},
   "outputs": [
    {
     "name": "stdout",
     "output_type": "stream",
     "text": [
      "470\n"
     ]
    }
   ],
   "source": [
    "import json\n",
    "\n",
    "json_array = json.loads(byte_array)\n",
    "print(len(json_array))"
   ]
  },
  {
   "cell_type": "code",
   "execution_count": 6,
   "metadata": {},
   "outputs": [
    {
     "name": "stdout",
     "output_type": "stream",
     "text": [
      "{'count': 470}\n"
     ]
    }
   ],
   "source": [
    "# confirmation if above number checks out\n",
    "total_games = wrapper.api_request(\n",
    "    'games/count',\n",
    "    f'fields name, summary, genres, genres.name; limit {limit}; where id > {min_id} & id <= {max_id} & summary != null & genres != null; sort id asc;'\n",
    ")\n",
    "print(json.loads(total_games))"
   ]
  },
  {
   "cell_type": "code",
   "execution_count": 7,
   "metadata": {},
   "outputs": [],
   "source": [
    "import pandas as pd\n",
    "\n",
    "videogame_df = pd.DataFrame(json_array)\n",
    "videogame_df.head(10)\n",
    "\n",
    "videogame_df.to_csv('./debug.csv')"
   ]
  },
  {
   "cell_type": "code",
   "execution_count": 8,
   "metadata": {},
   "outputs": [
    {
     "name": "stdout",
     "output_type": "stream",
     "text": [
      "<class 'pandas.core.frame.DataFrame'>\n",
      "RangeIndex: 470 entries, 0 to 469\n",
      "Data columns (total 4 columns):\n",
      " #   Column   Non-Null Count  Dtype \n",
      "---  ------   --------------  ----- \n",
      " 0   id       470 non-null    int64 \n",
      " 1   genres   470 non-null    object\n",
      " 2   name     470 non-null    object\n",
      " 3   summary  470 non-null    object\n",
      "dtypes: int64(1), object(3)\n",
      "memory usage: 14.8+ KB\n"
     ]
    }
   ],
   "source": [
    "# check for missing values\n",
    "videogame_df.info(verbose=True)"
   ]
  },
  {
   "attachments": {},
   "cell_type": "markdown",
   "metadata": {},
   "source": [
    "> 📅 **1/19/2023**  \n",
    "> *mental note*: `summary` can have null values.  \n",
    "> *mental note update*: `genre` as well (it turns into a float value)"
   ]
  },
  {
   "cell_type": "code",
   "execution_count": 9,
   "metadata": {},
   "outputs": [
    {
     "name": "stdout",
     "output_type": "stream",
     "text": [
      "[\"Hack and slash/Beat 'em up\", 'Adventure']\n",
      "[25, 31]\n"
     ]
    }
   ],
   "source": [
    "hello = videogame_df['genres']\n",
    "\n",
    "hello_str = hello[0]\n",
    "genre_list = [x['name'] for x in hello_str]\n",
    "genre_ids = [x['id'] for x in hello_str]\n",
    "\n",
    "print(genre_list)\n",
    "print(genre_ids)"
   ]
  },
  {
   "cell_type": "code",
   "execution_count": 10,
   "metadata": {},
   "outputs": [
    {
     "data": {
      "text/html": [
       "<div>\n",
       "<style scoped>\n",
       "    .dataframe tbody tr th:only-of-type {\n",
       "        vertical-align: middle;\n",
       "    }\n",
       "\n",
       "    .dataframe tbody tr th {\n",
       "        vertical-align: top;\n",
       "    }\n",
       "\n",
       "    .dataframe thead th {\n",
       "        text-align: right;\n",
       "    }\n",
       "</style>\n",
       "<table border=\"1\" class=\"dataframe\">\n",
       "  <thead>\n",
       "    <tr style=\"text-align: right;\">\n",
       "      <th></th>\n",
       "      <th>genres</th>\n",
       "    </tr>\n",
       "  </thead>\n",
       "  <tbody>\n",
       "    <tr>\n",
       "      <th>0</th>\n",
       "      <td>[{'id': 25, 'name': 'Hack and slash/Beat 'em u...</td>\n",
       "    </tr>\n",
       "    <tr>\n",
       "      <th>1</th>\n",
       "      <td>[{'id': 5, 'name': 'Shooter'}]</td>\n",
       "    </tr>\n",
       "    <tr>\n",
       "      <th>2</th>\n",
       "      <td>[{'id': 13, 'name': 'Simulator'}, {'id': 14, '...</td>\n",
       "    </tr>\n",
       "    <tr>\n",
       "      <th>3</th>\n",
       "      <td>[{'id': 12, 'name': 'Role-playing (RPG)'}, {'i...</td>\n",
       "    </tr>\n",
       "    <tr>\n",
       "      <th>4</th>\n",
       "      <td>[{'id': 12, 'name': 'Role-playing (RPG)'}, {'i...</td>\n",
       "    </tr>\n",
       "  </tbody>\n",
       "</table>\n",
       "</div>"
      ],
      "text/plain": [
       "                                              genres\n",
       "0  [{'id': 25, 'name': 'Hack and slash/Beat 'em u...\n",
       "1                     [{'id': 5, 'name': 'Shooter'}]\n",
       "2  [{'id': 13, 'name': 'Simulator'}, {'id': 14, '...\n",
       "3  [{'id': 12, 'name': 'Role-playing (RPG)'}, {'i...\n",
       "4  [{'id': 12, 'name': 'Role-playing (RPG)'}, {'i..."
      ]
     },
     "execution_count": 10,
     "metadata": {},
     "output_type": "execute_result"
    }
   ],
   "source": [
    "test_df = videogame_df['genres'].to_frame()\n",
    "test_df.head()"
   ]
  },
  {
   "cell_type": "code",
   "execution_count": 11,
   "metadata": {},
   "outputs": [],
   "source": [
    "test_df['genre_count'] = [len(x)for x in test_df['genres']]\n",
    "test_df['genre_list'] = [[y['name'] for y in x] for x in test_df['genres']]\n",
    "test_df['genre_ids'] = [[y['id'] for y in x] for x in test_df['genres']]"
   ]
  },
  {
   "cell_type": "code",
   "execution_count": 12,
   "metadata": {},
   "outputs": [
    {
     "data": {
      "text/html": [
       "<div>\n",
       "<style scoped>\n",
       "    .dataframe tbody tr th:only-of-type {\n",
       "        vertical-align: middle;\n",
       "    }\n",
       "\n",
       "    .dataframe tbody tr th {\n",
       "        vertical-align: top;\n",
       "    }\n",
       "\n",
       "    .dataframe thead th {\n",
       "        text-align: right;\n",
       "    }\n",
       "</style>\n",
       "<table border=\"1\" class=\"dataframe\">\n",
       "  <thead>\n",
       "    <tr style=\"text-align: right;\">\n",
       "      <th></th>\n",
       "      <th>genres</th>\n",
       "      <th>genre_count</th>\n",
       "      <th>genre_list</th>\n",
       "      <th>genre_ids</th>\n",
       "    </tr>\n",
       "  </thead>\n",
       "  <tbody>\n",
       "    <tr>\n",
       "      <th>0</th>\n",
       "      <td>[{'id': 25, 'name': 'Hack and slash/Beat 'em u...</td>\n",
       "      <td>2</td>\n",
       "      <td>[Hack and slash/Beat 'em up, Adventure]</td>\n",
       "      <td>[25, 31]</td>\n",
       "    </tr>\n",
       "    <tr>\n",
       "      <th>1</th>\n",
       "      <td>[{'id': 5, 'name': 'Shooter'}]</td>\n",
       "      <td>1</td>\n",
       "      <td>[Shooter]</td>\n",
       "      <td>[5]</td>\n",
       "    </tr>\n",
       "    <tr>\n",
       "      <th>2</th>\n",
       "      <td>[{'id': 13, 'name': 'Simulator'}, {'id': 14, '...</td>\n",
       "      <td>2</td>\n",
       "      <td>[Simulator, Sport]</td>\n",
       "      <td>[13, 14]</td>\n",
       "    </tr>\n",
       "    <tr>\n",
       "      <th>3</th>\n",
       "      <td>[{'id': 12, 'name': 'Role-playing (RPG)'}, {'i...</td>\n",
       "      <td>5</td>\n",
       "      <td>[Role-playing (RPG), Simulator, Strategy, Hack...</td>\n",
       "      <td>[12, 13, 15, 25, 31]</td>\n",
       "    </tr>\n",
       "    <tr>\n",
       "      <th>4</th>\n",
       "      <td>[{'id': 12, 'name': 'Role-playing (RPG)'}, {'i...</td>\n",
       "      <td>3</td>\n",
       "      <td>[Role-playing (RPG), Hack and slash/Beat 'em u...</td>\n",
       "      <td>[12, 25, 31]</td>\n",
       "    </tr>\n",
       "    <tr>\n",
       "      <th>5</th>\n",
       "      <td>[{'id': 8, 'name': 'Platform'}, {'id': 31, 'na...</td>\n",
       "      <td>2</td>\n",
       "      <td>[Platform, Adventure]</td>\n",
       "      <td>[8, 31]</td>\n",
       "    </tr>\n",
       "    <tr>\n",
       "      <th>6</th>\n",
       "      <td>[{'id': 8, 'name': 'Platform'}, {'id': 31, 'na...</td>\n",
       "      <td>2</td>\n",
       "      <td>[Platform, Adventure]</td>\n",
       "      <td>[8, 31]</td>\n",
       "    </tr>\n",
       "    <tr>\n",
       "      <th>7</th>\n",
       "      <td>[{'id': 10, 'name': 'Racing'}, {'id': 14, 'nam...</td>\n",
       "      <td>2</td>\n",
       "      <td>[Racing, Sport]</td>\n",
       "      <td>[10, 14]</td>\n",
       "    </tr>\n",
       "    <tr>\n",
       "      <th>8</th>\n",
       "      <td>[{'id': 5, 'name': 'Shooter'}, {'id': 10, 'nam...</td>\n",
       "      <td>2</td>\n",
       "      <td>[Shooter, Racing]</td>\n",
       "      <td>[5, 10]</td>\n",
       "    </tr>\n",
       "    <tr>\n",
       "      <th>9</th>\n",
       "      <td>[{'id': 4, 'name': 'Fighting'}]</td>\n",
       "      <td>1</td>\n",
       "      <td>[Fighting]</td>\n",
       "      <td>[4]</td>\n",
       "    </tr>\n",
       "  </tbody>\n",
       "</table>\n",
       "</div>"
      ],
      "text/plain": [
       "                                              genres  genre_count  \\\n",
       "0  [{'id': 25, 'name': 'Hack and slash/Beat 'em u...            2   \n",
       "1                     [{'id': 5, 'name': 'Shooter'}]            1   \n",
       "2  [{'id': 13, 'name': 'Simulator'}, {'id': 14, '...            2   \n",
       "3  [{'id': 12, 'name': 'Role-playing (RPG)'}, {'i...            5   \n",
       "4  [{'id': 12, 'name': 'Role-playing (RPG)'}, {'i...            3   \n",
       "5  [{'id': 8, 'name': 'Platform'}, {'id': 31, 'na...            2   \n",
       "6  [{'id': 8, 'name': 'Platform'}, {'id': 31, 'na...            2   \n",
       "7  [{'id': 10, 'name': 'Racing'}, {'id': 14, 'nam...            2   \n",
       "8  [{'id': 5, 'name': 'Shooter'}, {'id': 10, 'nam...            2   \n",
       "9                    [{'id': 4, 'name': 'Fighting'}]            1   \n",
       "\n",
       "                                          genre_list             genre_ids  \n",
       "0            [Hack and slash/Beat 'em up, Adventure]              [25, 31]  \n",
       "1                                          [Shooter]                   [5]  \n",
       "2                                 [Simulator, Sport]              [13, 14]  \n",
       "3  [Role-playing (RPG), Simulator, Strategy, Hack...  [12, 13, 15, 25, 31]  \n",
       "4  [Role-playing (RPG), Hack and slash/Beat 'em u...          [12, 25, 31]  \n",
       "5                              [Platform, Adventure]               [8, 31]  \n",
       "6                              [Platform, Adventure]               [8, 31]  \n",
       "7                                    [Racing, Sport]              [10, 14]  \n",
       "8                                  [Shooter, Racing]               [5, 10]  \n",
       "9                                         [Fighting]                   [4]  "
      ]
     },
     "execution_count": 12,
     "metadata": {},
     "output_type": "execute_result"
    }
   ],
   "source": [
    "test_df.head(10)"
   ]
  },
  {
   "attachments": {},
   "cell_type": "markdown",
   "metadata": {},
   "source": [
    "Finally, apply the things we did on test_df to the videogame_df"
   ]
  },
  {
   "cell_type": "code",
   "execution_count": 13,
   "metadata": {},
   "outputs": [
    {
     "data": {
      "text/html": [
       "<div>\n",
       "<style scoped>\n",
       "    .dataframe tbody tr th:only-of-type {\n",
       "        vertical-align: middle;\n",
       "    }\n",
       "\n",
       "    .dataframe tbody tr th {\n",
       "        vertical-align: top;\n",
       "    }\n",
       "\n",
       "    .dataframe thead th {\n",
       "        text-align: right;\n",
       "    }\n",
       "</style>\n",
       "<table border=\"1\" class=\"dataframe\">\n",
       "  <thead>\n",
       "    <tr style=\"text-align: right;\">\n",
       "      <th></th>\n",
       "      <th>id</th>\n",
       "      <th>name</th>\n",
       "      <th>summary</th>\n",
       "      <th>genre_count</th>\n",
       "      <th>genre_list</th>\n",
       "      <th>genre_ids</th>\n",
       "    </tr>\n",
       "  </thead>\n",
       "  <tbody>\n",
       "    <tr>\n",
       "      <th>0</th>\n",
       "      <td>501</td>\n",
       "      <td>Batman: Arkham City</td>\n",
       "      <td>After the events of Batman: Arkham Asylum (200...</td>\n",
       "      <td>2</td>\n",
       "      <td>[Hack and slash/Beat 'em up, Adventure]</td>\n",
       "      <td>[25, 31]</td>\n",
       "    </tr>\n",
       "    <tr>\n",
       "      <th>1</th>\n",
       "      <td>502</td>\n",
       "      <td>Brink</td>\n",
       "      <td>Brink is an immersive first-person shooter tha...</td>\n",
       "      <td>1</td>\n",
       "      <td>[Shooter]</td>\n",
       "      <td>[5]</td>\n",
       "    </tr>\n",
       "    <tr>\n",
       "      <th>2</th>\n",
       "      <td>503</td>\n",
       "      <td>FIFA Soccer 11</td>\n",
       "      <td>The best-selling and most critically-acclaimed...</td>\n",
       "      <td>2</td>\n",
       "      <td>[Simulator, Sport]</td>\n",
       "      <td>[13, 14]</td>\n",
       "    </tr>\n",
       "    <tr>\n",
       "      <th>3</th>\n",
       "      <td>504</td>\n",
       "      <td>Fable III</td>\n",
       "      <td>Set 50 years after the events of Fable II, the...</td>\n",
       "      <td>5</td>\n",
       "      <td>[Role-playing (RPG), Simulator, Strategy, Hack...</td>\n",
       "      <td>[12, 13, 15, 25, 31]</td>\n",
       "    </tr>\n",
       "    <tr>\n",
       "      <th>4</th>\n",
       "      <td>505</td>\n",
       "      <td>Hunted: The Demon's Forge</td>\n",
       "      <td>It will take the combined efforts of two great...</td>\n",
       "      <td>3</td>\n",
       "      <td>[Role-playing (RPG), Hack and slash/Beat 'em u...</td>\n",
       "      <td>[12, 25, 31]</td>\n",
       "    </tr>\n",
       "  </tbody>\n",
       "</table>\n",
       "</div>"
      ],
      "text/plain": [
       "    id                       name  \\\n",
       "0  501        Batman: Arkham City   \n",
       "1  502                      Brink   \n",
       "2  503             FIFA Soccer 11   \n",
       "3  504                  Fable III   \n",
       "4  505  Hunted: The Demon's Forge   \n",
       "\n",
       "                                             summary  genre_count  \\\n",
       "0  After the events of Batman: Arkham Asylum (200...            2   \n",
       "1  Brink is an immersive first-person shooter tha...            1   \n",
       "2  The best-selling and most critically-acclaimed...            2   \n",
       "3  Set 50 years after the events of Fable II, the...            5   \n",
       "4  It will take the combined efforts of two great...            3   \n",
       "\n",
       "                                          genre_list             genre_ids  \n",
       "0            [Hack and slash/Beat 'em up, Adventure]              [25, 31]  \n",
       "1                                          [Shooter]                   [5]  \n",
       "2                                 [Simulator, Sport]              [13, 14]  \n",
       "3  [Role-playing (RPG), Simulator, Strategy, Hack...  [12, 13, 15, 25, 31]  \n",
       "4  [Role-playing (RPG), Hack and slash/Beat 'em u...          [12, 25, 31]  "
      ]
     },
     "execution_count": 13,
     "metadata": {},
     "output_type": "execute_result"
    }
   ],
   "source": [
    "videogame_df['genre_count'] = [len(x) for x in videogame_df['genres']]\n",
    "videogame_df['genre_list'] = [[y['name'] for y in x] for x in videogame_df['genres']]\n",
    "videogame_df['genre_ids'] = [[y['id'] for y in x] for x in videogame_df['genres']]\n",
    "\n",
    "videogame_df = videogame_df.drop(\"genres\", axis='columns')\n",
    "videogame_df.head()"
   ]
  },
  {
   "cell_type": "code",
   "execution_count": 15,
   "metadata": {},
   "outputs": [],
   "source": [
    "# save as csv\n",
    "videogame_df.to_csv('./sample_data.csv')"
   ]
  },
  {
   "cell_type": "code",
   "execution_count": null,
   "metadata": {},
   "outputs": [],
   "source": []
  }
 ],
 "metadata": {
  "kernelspec": {
   "display_name": "Python 3",
   "language": "python",
   "name": "python3"
  },
  "language_info": {
   "codemirror_mode": {
    "name": "ipython",
    "version": 3
   },
   "file_extension": ".py",
   "mimetype": "text/x-python",
   "name": "python",
   "nbconvert_exporter": "python",
   "pygments_lexer": "ipython3",
   "version": "3.10.5"
  },
  "orig_nbformat": 4,
  "vscode": {
   "interpreter": {
    "hash": "591c0779b6128bfc2c376dd674a99fb3f0fc210d9bca6d6f57f1496b6753f9f3"
   }
  }
 },
 "nbformat": 4,
 "nbformat_minor": 2
}

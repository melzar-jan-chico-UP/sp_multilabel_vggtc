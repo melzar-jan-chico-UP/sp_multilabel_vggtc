{
 "cells": [
  {
   "cell_type": "code",
   "execution_count": null,
   "metadata": {},
   "outputs": [],
   "source": [
    "print(\"hellaur!\")"
   ]
  }
 ],
 "metadata": {
  "kernelspec": {
   "display_name": "Python 3",
   "language": "python",
   "name": "python3"
  },
  "language_info": {
   "name": "python",
   "version": "3.10.5 (tags/v3.10.5:f377153, Jun  6 2022, 16:14:13) [MSC v.1929 64 bit (AMD64)]"
  },
  "orig_nbformat": 4,
  "vscode": {
   "interpreter": {
    "hash": "591c0779b6128bfc2c376dd674a99fb3f0fc210d9bca6d6f57f1496b6753f9f3"
   }
  }
 },
 "nbformat": 4,
 "nbformat_minor": 2
}

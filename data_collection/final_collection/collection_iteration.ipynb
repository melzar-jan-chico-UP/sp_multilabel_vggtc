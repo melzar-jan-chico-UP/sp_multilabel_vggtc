{
 "cells": [
  {
   "attachments": {},
   "cell_type": "markdown",
   "metadata": {},
   "source": [
    "# 📝 Data Collection Final\n",
    "---\n",
    "\n",
    "This is where the main data collection happens. "
   ]
  },
  {
   "cell_type": "code",
   "execution_count": 1,
   "metadata": {},
   "outputs": [
    {
     "name": "stdout",
     "output_type": "stream",
     "text": [
      "Requirement already satisfied: igdb-api-v4 in c:\\users\\melzarr\\appdata\\local\\programs\\python\\python310\\lib\\site-packages (0.1.0)\n",
      "Requirement already satisfied: requests in c:\\users\\melzarr\\appdata\\local\\programs\\python\\python310\\lib\\site-packages (from igdb-api-v4) (2.28.1)\n",
      "Requirement already satisfied: protobuf in c:\\users\\melzarr\\appdata\\local\\programs\\python\\python310\\lib\\site-packages (from igdb-api-v4) (4.21.12)\n",
      "Requirement already satisfied: charset-normalizer<3,>=2 in c:\\users\\melzarr\\appdata\\local\\programs\\python\\python310\\lib\\site-packages (from requests->igdb-api-v4) (2.1.1)\n",
      "Requirement already satisfied: idna<4,>=2.5 in c:\\users\\melzarr\\appdata\\local\\programs\\python\\python310\\lib\\site-packages (from requests->igdb-api-v4) (3.4)\n",
      "Requirement already satisfied: urllib3<1.27,>=1.21.1 in c:\\users\\melzarr\\appdata\\local\\programs\\python\\python310\\lib\\site-packages (from requests->igdb-api-v4) (1.26.13)\n",
      "Requirement already satisfied: certifi>=2017.4.17 in c:\\users\\melzarr\\appdata\\local\\programs\\python\\python310\\lib\\site-packages (from requests->igdb-api-v4) (2022.12.7)\n",
      "Note: you may need to restart the kernel to use updated packages.\n"
     ]
    }
   ],
   "source": [
    "# install IGDB API wrapper\n",
    "%pip install igdb-api-v4"
   ]
  },
  {
   "cell_type": "code",
   "execution_count": 2,
   "metadata": {},
   "outputs": [],
   "source": [
    "# imports\n",
    "from igdb.wrapper import IGDBWrapper\n",
    "from config import *\n",
    "import json\n",
    "import pandas as pd\n",
    "\n",
    "# initialize wrapper\n",
    "wrapper = IGDBWrapper(CLIENT_ID, ACCESS_TOKEN)"
   ]
  },
  {
   "cell_type": "code",
   "execution_count": 24,
   "metadata": {},
   "outputs": [],
   "source": [
    "# iterative API request using wrapper\n",
    "min_id = 0\n",
    "max_id = 500\n",
    "limit = 500\n",
    "start = 200000\n",
    "\n",
    "vg_dataset = []\n",
    "vg_counts = []\n",
    "\n",
    "for i in range(start, start+50000, limit):\n",
    "    byte_array = wrapper.api_request(\n",
    "        'games',\n",
    "        f'fields name, summary, genres, genres.name; limit {limit}; where id > {min_id+i} & id <= {max_id+i} & summary != null & genres != null; sort id asc;'\n",
    "    )\n",
    "\n",
    "    json_array = json.loads(byte_array)\n",
    "    arr_size = len(json_array)\n",
    "\n",
    "    vg_dataset += json_array\n",
    "    vg_counts.append(arr_size)"
   ]
  },
  {
   "cell_type": "code",
   "execution_count": 25,
   "metadata": {},
   "outputs": [
    {
     "name": "stdout",
     "output_type": "stream",
     "text": [
      "[273, 310, 373, 355, 343, 358, 361, 410, 406, 369, 391, 257, 167, 213, 369, 373, 200, 202, 175, 162, 234, 327, 406, 451, 323, 336, 348, 329, 288, 323, 316, 406, 253, 466, 467, 237, 181, 300, 342, 340, 213, 333, 320, 315, 109, 289, 423, 236, 276, 442, 347, 326, 424, 415, 265, 233, 266, 301, 339, 340, 276, 282, 342, 255, 348, 386, 296, 318, 16, 0, 0, 0, 0, 0, 0, 0, 0, 0, 0, 0, 0, 0, 0, 0, 0, 0, 0, 0, 0, 0, 0, 0, 0, 0, 0, 0, 0, 0, 0, 0] 21471\n"
     ]
    }
   ],
   "source": [
    "videogame_df = pd.DataFrame(vg_dataset)\n",
    "\n",
    "videogame_df['genre_count'] = [len(x) for x in videogame_df['genres']]\n",
    "videogame_df['genre_list'] = [[y['name'] for y in x] for x in videogame_df['genres']]\n",
    "videogame_df['genre_ids'] = [[y['id'] for y in x] for x in videogame_df['genres']]\n",
    "\n",
    "videogame_df = videogame_df.drop(\"genres\", axis='columns').sort_index(ascending=True)\n",
    "print(vg_counts, sum(vg_counts))"
   ]
  },
  {
   "cell_type": "code",
   "execution_count": 26,
   "metadata": {},
   "outputs": [],
   "source": [
    "videogame_df.to_csv(f'./final_data2/data{start}_s{sum(vg_counts)}.csv', index=False)"
   ]
  }
 ],
 "metadata": {
  "kernelspec": {
   "display_name": "Python 3",
   "language": "python",
   "name": "python3"
  },
  "language_info": {
   "codemirror_mode": {
    "name": "ipython",
    "version": 3
   },
   "file_extension": ".py",
   "mimetype": "text/x-python",
   "name": "python",
   "nbconvert_exporter": "python",
   "pygments_lexer": "ipython3",
   "version": "3.10.5"
  },
  "orig_nbformat": 4,
  "vscode": {
   "interpreter": {
    "hash": "591c0779b6128bfc2c376dd674a99fb3f0fc210d9bca6d6f57f1496b6753f9f3"
   }
  }
 },
 "nbformat": 4,
 "nbformat_minor": 2
}
